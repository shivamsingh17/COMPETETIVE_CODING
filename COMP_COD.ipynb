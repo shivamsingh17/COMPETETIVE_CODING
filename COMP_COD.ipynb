{
  "nbformat": 4,
  "nbformat_minor": 0,
  "metadata": {
    "colab": {
      "name": "COMP_COD.ipynb",
      "provenance": [],
      "collapsed_sections": [],
      "authorship_tag": "ABX9TyMFJgXOYOyfBlYy+slfeB+X",
      "include_colab_link": true
    },
    "kernelspec": {
      "name": "python3",
      "display_name": "Python 3"
    }
  },
  "cells": [
    {
      "cell_type": "markdown",
      "metadata": {
        "id": "view-in-github",
        "colab_type": "text"
      },
      "source": [
        "<a href=\"https://colab.research.google.com/github/shivamsingh17/COMPETETIVE_CODING/blob/master/COMP_COD.ipynb\" target=\"_parent\"><img src=\"https://colab.research.google.com/assets/colab-badge.svg\" alt=\"Open In Colab\"/></a>"
      ]
    },
    {
      "cell_type": "code",
      "metadata": {
        "id": "xzJj48TlZ1WC",
        "colab_type": "code",
        "colab": {}
      },
      "source": [
        "# retreive min in constant time \n",
        "class MinStack:\n",
        "\n",
        "    def __init__(self):\n",
        "        \"\"\"\n",
        "        initialize your data structure here.\n",
        "        \"\"\"\n",
        "        self.stack = [] \n",
        "        self.mn = []\n",
        "\n",
        "    def push(self, x):\n",
        "        \"\"\"\n",
        "        :type x: int\n",
        "        :rtype: void\n",
        "        \"\"\"\n",
        "        self.stack.append(x)\n",
        "        if not self.mn: self.mn.append(x)\n",
        "        else:  self.mn.append( min(self.mn[-1] , x) )\n",
        "\n",
        "    def pop(self):\n",
        "        \"\"\"\n",
        "        :rtype: void\n",
        "        \"\"\"\n",
        "        self.mn.pop()\n",
        "        return self.stack.pop()         \n",
        "\n",
        "    def top(self):\n",
        "        \"\"\"\n",
        "        :rtype: int\n",
        "        \"\"\"\n",
        "        return self.stack[-1]\n",
        "\n",
        "    def getMin(self):\n",
        "        \"\"\"\n",
        "        :rtype: int\n",
        "        \"\"\"\n",
        "        return self.mn[-1]\n",
        "\n",
        "# Your MinStack object will be instantiated and called as such:\n",
        "# obj = MinStack()\n",
        "# obj.push(x)\n",
        "# obj.pop()\n",
        "# param_3 = obj.top()\n",
        "# param_4 = obj.getMin()"
      ],
      "execution_count": 0,
      "outputs": []
    },
    {
      "cell_type": "code",
      "metadata": {
        "id": "PlTkmuCN8HbJ",
        "colab_type": "code",
        "colab": {}
      },
      "source": [
        "class Solution(object):\n",
        "    def fun(self, S):\n",
        "        l = []  \n",
        "        for i in range(0, len(S)):  \n",
        "  \n",
        "            if S[i] != '#':  \n",
        "                l.append(S[i])  \n",
        "            elif len(l) != 0:  \n",
        "                l.pop()  \n",
        "\n",
        "        res = \"\"  \n",
        "  \n",
        "        while len(l) != 0:  \n",
        "            res += l[0]  \n",
        "            l.pop(0)  \n",
        "\n",
        "        return res  \n",
        "  \n",
        "    def backspaceCompare(self, S, T):\n",
        "        \"\"\"\n",
        "        :type S: str\n",
        "        :type T: str\n",
        "        :rtype: bool\n",
        "        \"\"\"\n",
        "        a = Solution()\n",
        "        if a.fun(S) == a.fun(T):\n",
        "            return True\n",
        "        else:\n",
        "            return False\n",
        "             "
      ],
      "execution_count": 0,
      "outputs": []
    },
    {
      "cell_type": "markdown",
      "metadata": {
        "id": "82BHNG0IdSqi",
        "colab_type": "text"
      },
      "source": [
        "# Make list of anagrams"
      ]
    },
    {
      "cell_type": "code",
      "metadata": {
        "id": "w_yX9r-IdXXl",
        "colab_type": "code",
        "colab": {}
      },
      "source": [
        "def groupAnagrams(self, strs):\n",
        "        \"\"\"\n",
        "        :type strs: List[str]\n",
        "        :rtype: List[List[str]]\n",
        "        \"\"\"\n",
        "        res = defaultdict(list) \n",
        "        for word in strs: \n",
        "            res[\"\".join(sorted(word))].append(word) \n",
        "        l = []\n",
        " \n",
        "        for group in res.values(): \n",
        "            l.append(group) \n",
        "        return l"
      ],
      "execution_count": 0,
      "outputs": []
    },
    {
      "cell_type": "markdown",
      "metadata": {
        "id": "VEQCczirQ5y7",
        "colab_type": "text"
      },
      "source": [
        "https://www.codechef.com/LRNDSA01/problems/MULTHREE   Not  understood"
      ]
    },
    {
      "cell_type": "code",
      "metadata": {
        "id": "a_VE72_oA9RV",
        "colab_type": "code",
        "colab": {}
      },
      "source": [
        "#trailing zeros \n",
        "t = int(input())\n",
        "for i in range(t) :\n",
        "    n = int(input())\n",
        "    c = 0\n",
        "    j = 5\n",
        "    while n//j>=1 :\n",
        "        c+=n//j\n",
        "        j*=5\n",
        "    print(c)\n"
      ],
      "execution_count": 0,
      "outputs": []
    },
    {
      "cell_type": "markdown",
      "metadata": {
        "id": "3x4Idv29nGbb",
        "colab_type": "text"
      },
      "source": [
        "[Middle of linked list ](https://leetcode.com/articles/middle-of-the-linked-list/)"
      ]
    },
    {
      "cell_type": "code",
      "metadata": {
        "id": "f26EoAj5nbzx",
        "colab_type": "code",
        "colab": {}
      },
      "source": [
        "class ListNode(object):\n",
        "#     def __init__(self, x):\n",
        "#         self.val = x\n",
        "#         self.next = None\n",
        "class Solution(object):\n",
        "    \n",
        "    def middleNode(self, head):\n",
        "        slow = fast = head\n",
        "        while fast and fast.next:\n",
        "            slow = slow.next\n",
        "            fast = fast.next.next\n",
        "        return slow\n",
        "\n",
        "#Time Complexity: O(N)O(N), where NN is the number of nodes in the given list.\n",
        "\n",
        "#Space Complexity: O(1)O(1), the space used by slow and fast.\n",
        "\n",
        "class Solution(object):\n",
        "    def middleNode(self, head):\n",
        "        A = [head]\n",
        "        while A[-1].next:\n",
        "            A.append(A[-1].next)\n",
        "        return A[len(A) / 2]\n",
        "\n",
        "#ime Complexity: O(N)O(N), where NN is the number of nodes in the given list.\n",
        "\n",
        "#Space Complexity: O(N)O(N), the space used by A.\n",
        "\n"
      ],
      "execution_count": 0,
      "outputs": []
    },
    {
      "cell_type": "markdown",
      "metadata": {
        "id": "3slQgMAiQbaR",
        "colab_type": "text"
      },
      "source": [
        "Remove any duplicates from a List:\n",
        "\n",
        "mylist = [\"a\", \"b\", \"a\", \"c\", \"c\"]\n",
        "mylist = list(dict.fromkeys(mylist))\n",
        "print(mylist)"
      ]
    },
    {
      "cell_type": "markdown",
      "metadata": {
        "id": "nPY0LCkFtEfh",
        "colab_type": "text"
      },
      "source": [
        "https://www.hackerrank.com/challenges/between-two-sets/problem?h_r=next-challenge&h_v=zen"
      ]
    },
    {
      "cell_type": "markdown",
      "metadata": {
        "id": "G7OAxRZMZdmT",
        "colab_type": "text"
      },
      "source": [
        "droup anagram leetcode , using hashmap TC = O(N*M), SC = O(M + N)\n",
        "https://www.geeksforgeeks.org/given-a-sequence-of-words-print-all-anagrams-together/"
      ]
    },
    {
      "cell_type": "markdown",
      "metadata": {
        "id": "yu7_IZMrDZcp",
        "colab_type": "text"
      },
      "source": [
        "# N, M = map(int, input().split())\n",
        "# arr = numpy.array([input().split() for _ in range(N)],int)"
      ]
    },
    {
      "cell_type": "code",
      "metadata": {
        "id": "pxvtHGIe46mD",
        "colab_type": "code",
        "colab": {}
      },
      "source": [
        "#input two array\n",
        "N=int(input())\n",
        "\n",
        "a=[]\n",
        "for i in range(N):\n",
        "    temp=list(map(int,input().split()))\n",
        "    a.append(temp)\n",
        "a = numpy.array(a)\n",
        "b=[]\n",
        "for i in range(N):\n",
        "    temp=list(map(int,input().split()))\n",
        "    b.append(temp)\n",
        "b = numpy.array(b)"
      ],
      "execution_count": 0,
      "outputs": []
    },
    {
      "cell_type": "markdown",
      "metadata": {
        "id": "XOHlhDtyA409",
        "colab_type": "text"
      },
      "source": [
        "numpy.set_printoptions(sign=' ') used to  print reqd deliminator in array"
      ]
    },
    {
      "cell_type": "markdown",
      "metadata": {
        "id": "Xy26b_Ivul84",
        "colab_type": "text"
      },
      "source": [
        "Sample Input 0\n",
        "\n",
        "12\n",
        "insert 0 5\n",
        "insert 1 10\n",
        "insert 0 6\n",
        "print\n",
        "remove 6\n",
        "append 9\n",
        "append 1\n",
        "sort\n",
        "print\n",
        "pop\n",
        "reverse\n",
        "print\n",
        "Sample Output 0\n",
        "\n",
        "[6, 5, 10]\n",
        "[1, 5, 9, 10]\n",
        "[9, 5, 1]"
      ]
    },
    {
      "cell_type": "code",
      "metadata": {
        "id": "z-gO1lmNoK6p",
        "colab_type": "code",
        "colab": {}
      },
      "source": [
        "#good qyestion on list hackerrank list : python problem\n",
        "if __name__ == '__main__':\n",
        "    N = int(input())\n",
        "    l = []\n",
        "    for _ in range(N):\n",
        "        s = input().split()\n",
        "        cmd = s[0]\n",
        "        args = s[1:]\n",
        "        if cmd !=\"print\":\n",
        "            cmd += \"(\"+ \",\".join(args) +\")\"\n",
        "            eval(\"l.\"+cmd)\n",
        "        else:\n",
        "            print(l)\n"
      ],
      "execution_count": 0,
      "outputs": []
    },
    {
      "cell_type": "code",
      "metadata": {
        "id": "dw_3x11JdQYy",
        "colab_type": "code",
        "colab": {}
      },
      "source": [
        ""
      ],
      "execution_count": 0,
      "outputs": []
    },
    {
      "cell_type": "code",
      "metadata": {
        "id": "29a6_lemqqce",
        "colab_type": "code",
        "colab": {}
      },
      "source": [
        "T=int(input())\n",
        "for t in range(T):\n",
        "    S=input()\n",
        "    opening=0\n",
        "    Snew=''\n",
        "    \n",
        "    for i in range(len(S)):\n",
        "        d=int(S[i])\n",
        "        #print(opening,d,end=' ')\n",
        "        if d==0:\n",
        "            Snew+=')'*opening+str(d)\n",
        "            opening=0\n",
        "        elif d>opening:\n",
        "            Snew+='('*(d-opening)+str(d)\n",
        "            opening=d\n",
        "        elif d<opening:\n",
        "            Snew+=')'*(opening-d)+str(d)\n",
        "            opening=d\n",
        "        else:\n",
        "            Snew+=str(d)\n",
        "        #print(opening)\n",
        "    Snew+=')'*opening\n",
        "    \n",
        "    print(\"Case #{}: {}\".format(t+1,Snew))"
      ],
      "execution_count": 0,
      "outputs": []
    },
    {
      "cell_type": "code",
      "metadata": {
        "id": "V6IQ1EynhX1c",
        "colab_type": "code",
        "colab": {}
      },
      "source": [
        "#CODEJAM 2020 qualifier \n",
        "T=int(input())\n",
        "for t in range(T):\n",
        "    N=int(input())\n",
        "    matrix=[]\n",
        "    for i in range(N):\n",
        "        temp=list(map(int,input().split()))\n",
        "        matrix.append(temp)\n",
        "    \n",
        "    trace,row,col=0,0,0\n",
        "    for i in range(N):\n",
        "        trace+=matrix[i][i]\n",
        "                \n",
        "    for i in range(N):\n",
        "        l=[0]*N\n",
        "        for j in range(N):\n",
        "            if l[matrix[i][j]-1]==0:\n",
        "                l[matrix[i][j]-1]=1\n",
        "            else:\n",
        "                row+=1\n",
        "                break\n",
        "    for i in range(N):\n",
        "        l=[0]*N\n",
        "        for j in range(N):\n",
        "            if l[matrix[j][i]-1]==0:\n",
        "                l[matrix[j][i]-1]=1\n",
        "            else:\n",
        "                col+=1\n",
        "                break\n",
        "    print(\"Case #{}: {} {} {}\".format(t+1,trace,row,col))\n",
        "    "
      ],
      "execution_count": 0,
      "outputs": []
    },
    {
      "cell_type": "markdown",
      "metadata": {
        "id": "FrrgUGVBT04C",
        "colab_type": "text"
      },
      "source": [
        "group()\n",
        "A group() expression returns one or more subgroups of the match.\n",
        "Code\n",
        "\n",
        ">>> import re\n",
        ">>> m = re.match(r'(\\w+)@(\\w+)\\.(\\w+)','username@hackerrank.com')\n",
        ">>> m.group(0)       # The entire match \n",
        "'username@hackerrank.com'\n",
        ">>> m.group(1)       # The first parenthesized subgroup.\n",
        "'username'\n",
        ">>> m.group(2)       # The second parenthesized subgroup.\n",
        "'hackerrank'\n",
        ">>> m.group(3)       # The third parenthesized subgroup.\n",
        "'com'\n",
        ">>> m.group(1,2,3)   # Multiple arguments give us a tuple.\n",
        "('username', 'hackerrank', 'com')\n",
        "groups()\n",
        "A groups() expression returns a tuple containing all the subgroups of the match.\n",
        "Code\n",
        "\n",
        ">>> import re\n",
        ">>> m = re.match(r'(\\w+)@(\\w+)\\.(\\w+)','username@hackerrank.com')\n",
        ">>> m.groups()\n",
        "('username', 'hackerrank', 'com')\n",
        "groupdict()\n",
        "A groupdict() expression returns a dictionary containing all the named subgroups of the match, keyed by the subgroup name.\n",
        "Code\n",
        "\n",
        ">>> m = re.match(r'(?P<user>\\w+)@(?P<website>\\w+)\\.(?P<extension>\\w+)','myname@hackerrank.com')\n",
        ">>> m.groupdict()\n",
        "{'website': 'hackerrank', 'user': 'myname', 'extension': 'com'}"
      ]
    },
    {
      "cell_type": "code",
      "metadata": {
        "id": "jY0D6Y9whJgL",
        "colab_type": "code",
        "colab": {}
      },
      "source": [
        "for _ in range(int(input)):\n",
        "    N = int(input())\n",
        "    M = [[int(input()) for x in range (N)] for y in range(N)] \n",
        "    T = 0\n",
        "    for i in range(N):\n",
        "        T += M[i][i]\n",
        "        "
      ],
      "execution_count": 0,
      "outputs": []
    },
    {
      "cell_type": "markdown",
      "metadata": {
        "id": "bE8JsVJwFwMg",
        "colab_type": "text"
      },
      "source": [
        "You are given a string  consisting only of digits 0-9, commas ,, and dots .\n",
        "\n",
        "Your task is to complete the regex_pattern defined below, which will be used to re.split() all of the , and . symbols in .\n",
        "\n",
        "It’s guaranteed that every comma and every dot in  is preceeded and followed by a digit.\n",
        "Sample Input 0\n",
        "\n",
        "100,000,000.000\n",
        "Sample Output 0\n",
        "\n",
        "100\n",
        "000\n",
        "000\n",
        "000"
      ]
    },
    {
      "cell_type": "code",
      "metadata": {
        "id": "rE9VtEJfFzA1",
        "colab_type": "code",
        "colab": {}
      },
      "source": [
        "regex_pattern = r\"[.,]+\"\t# Do not delete 'r'.\n",
        "\n",
        "import re\n",
        "print(\"\\n\".join(re.split(regex_pattern, input())))"
      ],
      "execution_count": 0,
      "outputs": []
    },
    {
      "cell_type": "code",
      "metadata": {
        "id": "Co6j9YI76Lsb",
        "colab_type": "code",
        "colab": {}
      },
      "source": [
        "# second largest \n",
        "# remove all duplicate max\n",
        "if __name__ == '__main__':\n",
        "    n = int(input())\n",
        "    arr = map(int, input().split())\n",
        "    l = list(arr)\n",
        "    nl = set(l) \n",
        "    nl.remove(max(nl))   \n",
        "    print(max(nl))"
      ],
      "execution_count": 0,
      "outputs": []
    },
    {
      "cell_type": "markdown",
      "metadata": {
        "id": "hhZ0X01MH_3v",
        "colab_type": "text"
      },
      "source": [
        "#Move zeros to end"
      ]
    },
    {
      "cell_type": "code",
      "metadata": {
        "id": "njzunWiiCwEm",
        "colab_type": "code",
        "colab": {}
      },
      "source": [
        "def moveZeroes(self, nums):\n",
        "        \"\"\"\n",
        "        :type nums: List[int]\n",
        "        :rtype: None Do not return anything, modify nums in-place instead.\n",
        "        \"\"\"\n",
        "        t = 0\n",
        "        for i in range(len(nums)): \n",
        "            if nums[i] != 0: \n",
        "                nums[t] = nums[i] \n",
        "                t+=1\n",
        "        while t < len(nums): \n",
        "            nums[t] = 0\n",
        "            t += 1"
      ],
      "execution_count": 0,
      "outputs": []
    },
    {
      "cell_type": "markdown",
      "metadata": {
        "id": "zUAkz310CWZc",
        "colab_type": "text"
      },
      "source": [
        "#Max subarray sum"
      ]
    },
    {
      "cell_type": "code",
      "metadata": {
        "id": "SB5gFZZnCR1s",
        "colab_type": "code",
        "colab": {}
      },
      "source": [
        " def maxSubArray(self, A):\n",
        "        if not A:\n",
        "            return 0\n",
        "\n",
        "        curSum = maxSum = A[0]\n",
        "        for num in A[1:]:\n",
        "            curSum = max(num, curSum + num)\n",
        "            maxSum = max(maxSum, curSum)\n",
        "\n",
        "        return maxSum\n",
        "\n",
        "\n",
        "#TC = O(n)"
      ],
      "execution_count": 0,
      "outputs": []
    },
    {
      "cell_type": "code",
      "metadata": {
        "id": "ZhlNVw2JrPgu",
        "colab_type": "code",
        "colab": {}
      },
      "source": [
        "from sympy import Function, dsolve, Eq, Derivative, symbols\n",
        "from sympy.abc import x"
      ],
      "execution_count": 0,
      "outputs": []
    },
    {
      "cell_type": "code",
      "metadata": {
        "id": "e4MtaebXz0Y6",
        "colab_type": "code",
        "outputId": "4a852d3b-2181-4798-cb07-e22f6c0b34bb",
        "colab": {
          "base_uri": "https://localhost:8080/",
          "height": 34
        }
      },
      "source": [
        "f = Function(\"f\")(x)\n",
        "f_ = Derivative(f, x)\n",
        "eq = x*f_ + f - f**2\n",
        "dsolve(eq, hint='Bernoulli')"
      ],
      "execution_count": 0,
      "outputs": [
        {
          "output_type": "execute_result",
          "data": {
            "text/plain": [
              "Eq(f(x), 1/(x*(C1 + 1/x)))"
            ]
          },
          "metadata": {
            "tags": []
          },
          "execution_count": 12
        }
      ]
    },
    {
      "cell_type": "code",
      "metadata": {
        "id": "5K7DPnwbdOGk",
        "colab_type": "code",
        "colab": {}
      },
      "source": [
        "import numpy as np\n",
        "from scipy.optimize import minimize"
      ],
      "execution_count": 0,
      "outputs": []
    },
    {
      "cell_type": "code",
      "metadata": {
        "id": "sCC7EHd1z9g2",
        "colab_type": "code",
        "outputId": "85f0bd2a-9eb8-4a93-b566-ab467f981642",
        "colab": {
          "base_uri": "https://localhost:8080/",
          "height": 50
        }
      },
      "source": [
        "\n",
        "def f(x): return 2*x / (x**4 + 1)\n",
        "max_x = scipy.optimize.fmin(lambda x: f(x), 3)\n",
        "max_x"
      ],
      "execution_count": 0,
      "outputs": [
        {
          "output_type": "stream",
          "text": [
            "Warning: Maximum number of function evaluations has been exceeded.\n"
          ],
          "name": "stdout"
        },
        {
          "output_type": "execute_result",
          "data": {
            "text/plain": [
              "array([1.9014759e+29])"
            ]
          },
          "metadata": {
            "tags": []
          },
          "execution_count": 20
        }
      ]
    },
    {
      "cell_type": "code",
      "metadata": {
        "id": "sDTKngvd1Fro",
        "colab_type": "code",
        "outputId": "fd7cd6d5-169b-45cd-96a5-e9b7ed9739b7",
        "colab": {
          "base_uri": "https://localhost:8080/",
          "height": 434
        }
      },
      "source": [
        "import numpy as np\n",
        "import matplotlib.pyplot as plt\n",
        "\n",
        "n1 = np.random.normal(12.0, 1.0, 1000)\n",
        "n2 = np.random.normal(12, 0.1, 1000)\n",
        "\n",
        "plt.figure(figsize=(12,6))\n",
        "ax1=plt.subplot(1, 2, 1)\n",
        "ax1.hist(n1, label = r'$\\sigma^2 = 1.0$')\n",
        "ax1.legend()\n",
        "plt.suptitle('Normal distribution mean = 12.0 with two different variance.')\n",
        "\n",
        "ax2=plt.subplot(1, 2, 2)\n",
        "ax2.hist(n2, color = \"skyblue\", ec=\"skyblue\", label = r'$\\sigma^2 = 0.1$')\n",
        "ax2.legend()\n"
      ],
      "execution_count": 0,
      "outputs": [
        {
          "output_type": "execute_result",
          "data": {
            "text/plain": [
              "<matplotlib.legend.Legend at 0x7f3dd99376a0>"
            ]
          },
          "metadata": {
            "tags": []
          },
          "execution_count": 24
        },
        {
          "output_type": "display_data",
          "data": {
            "image/png": "[encoded data removed]",
            "text/plain": [
              "<Figure size 864x432 with 2 Axes>"
            ]
          },
          "metadata": {
            "tags": []
          }
        }
      ]
    },
    {
      "cell_type": "code",
      "metadata": {
        "id": "11psmh7RJecL",
        "colab_type": "code",
        "outputId": "ed2655a5-4119-4648-892d-1158123ee32d",
        "colab": {
          "base_uri": "https://localhost:8080/",
          "height": 282
        }
      },
      "source": [
        "import numpy as np\n",
        "import matplotlib.pyplot as plt\n",
        "\n",
        "w = np.array([88, 76, 65, 96, 52, 98, 102])\n",
        "ns = np.array([4, 3, 5, 2, 5, 2, 4])\n",
        "\n",
        "M = [w, ns]\n",
        "colors = ['red', 'tan']\n",
        "plt.hist(M,bins=40, histtype='bar', color=colors, label=[\"Weight(lbs)\", \"Number of students\"])\n",
        "plt.grid()\n",
        "plt.legend()\n"
      ],
      "execution_count": 0,
      "outputs": [
        {
          "output_type": "execute_result",
          "data": {
            "text/plain": [
              "<matplotlib.legend.Legend at 0x7fbf1c4744a8>"
            ]
          },
          "metadata": {
            "tags": []
          },
          "execution_count": 31
        },
        {
          "output_type": "display_data",
          "data": {
            "image/png": "[encoded data removed]",
            "text/plain": [
              "<Figure size 432x288 with 1 Axes>"
            ]
          },
          "metadata": {
            "tags": []
          }
        }
      ]
    },
    {
      "cell_type": "code",
      "metadata": {
        "id": "PvDDVnn-YY4z",
        "colab_type": "code",
        "colab": {}
      },
      "source": [
        ""
      ],
      "execution_count": 0,
      "outputs": []
    },
    {
      "cell_type": "markdown",
      "metadata": {
        "id": "zMgL2iH0nDZy",
        "colab_type": "text"
      },
      "source": [
        ""
      ]
    }
  ]
}